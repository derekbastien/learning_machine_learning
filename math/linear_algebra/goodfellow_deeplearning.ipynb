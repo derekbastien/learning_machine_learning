{
 "cells": [
  {
   "cell_type": "markdown",
   "metadata": {
    "collapsed": true,
    "pycharm": {
     "name": "#%% md\n"
    }
   },
   "source": [
    "## Chapter 2 - Linear Algebra <br>\n",
    "### 2.1 - Scalars, Vectors, Matricies and Tensors\n",
    "\n",
    "__Scalar__ - a single number <br>\n",
    "\n",
    "__Vector__ - an array of numbers arranged in order <br>\n",
    "$$ \\begin{bmatrix} 1 \\\\ 5 \\\\ -4\\end{bmatrix} $$ <br>\n",
    "- think of as identifying points in space, each element is a coordinate <br>\n",
    "\n",
    "__Matrix__ - 2-D array of numbers, each element has 2 indices <br>\n",
    "$$ \\begin{bmatrix} 1 & 2 & 8 \\\\ 5 & -1 & 0 \\\\ -4 & 1 & 1\\end{bmatrix} $$ <br>\n",
    "\n",
    "__Tensor__ - Array with more than 2 axes\n",
    "\n",
    "__Transpose__ - mirror image across a the main diagonal (running down and to the right) <br>\n",
    "$$ (A^T)_{i,j} = A_{j,i}$$\n",
    "\n",
    "- Scalar is a matrix with only a single entry\n",
    "- Matrices with the same dimensions can be added together by adding the elements with the same coordinates\n",
    "- A scalar can be added or multiplied to a matrix by performing the operation elementwise\n",
    "\n",
    "__Broadcasting__ - addition of a matrix and a vector <br>\n",
    "$$ C_{i,j} = A_{i,j} + b_j $$ <br>\n",
    "    ie. vector b is added to each row of matrix C \n",
    "\n",
    "\n",
    "### 2.2 Multiplying Matrices and Vectors\n",
    "\n",
    "## References\n",
    "@book{Goodfellow-et-al-2016,\n",
    "    title={Deep Learning},\n",
    "    author={Ian Goodfellow and Yoshua Bengio and Aaron Courville},\n",
    "    publisher={MIT Press},\n",
    "    note={\\url{http://www.deeplearningbook.org}},\n",
    "    year={2016}\n",
    "}\n"
   ]
  }
 ],
 "metadata": {
  "language_info": {
   "codemirror_mode": {
    "name": "ipython",
    "version": 2
   },
   "file_extension": ".py",
   "mimetype": "text/x-python",
   "name": "python",
   "nbconvert_exporter": "python",
   "pygments_lexer": "ipython2",
   "version": "2.7.6"
  },
  "kernelspec": {
   "name": "python3",
   "language": "python",
   "display_name": "Python 3"
  },
  "pycharm": {
   "stem_cell": {
    "cell_type": "raw",
    "source": [],
    "metadata": {
     "collapsed": false
    }
   }
  }
 },
 "nbformat": 4,
 "nbformat_minor": 0
}