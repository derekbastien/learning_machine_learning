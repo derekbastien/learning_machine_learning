{
 "cells": [
  {
   "cell_type": "markdown",
   "metadata": {
    "collapsed": true,
    "pycharm": {
     "name": "#%% md\n"
    }
   },
   "source": [
    "# Linear Algebra"
   ]
  },
  {
   "cell_type": "code",
   "execution_count": 1,
   "outputs": [],
   "source": [
    "from mxnet import nd"
   ],
   "metadata": {
    "collapsed": false,
    "pycharm": {
     "name": "#%%\n",
     "is_executing": false
    }
   }
  },
  {
   "cell_type": "markdown",
   "source": [
    "## Scalars\n",
    "Single numbers represented by lower case letters ($x$, $y$, $z$).  The space of all \n",
    "scalars is denoted as $\\mathcal{R}$. If you want to denote x as a scalar can say $x \\in \\mathcal{R}$.\n",
    "$\\in$ means in and signifies membership of a set.\n"
   ],
   "metadata": {
    "collapsed": false,
    "pycharm": {
     "name": "#%% md\n"
    }
   }
  },
  {
   "cell_type": "code",
   "execution_count": 3,
   "outputs": [
    {
     "name": "stdout",
     "text": [
      "x + y =  \n[5.]\n<NDArray 1 @cpu(0)>\nx * y =  \n[6.]\n<NDArray 1 @cpu(0)>\nx / y =  \n[1.5]\n<NDArray 1 @cpu(0)>\nx ** y =  \n[9.]\n<NDArray 1 @cpu(0)>\n"
     ],
     "output_type": "stream"
    },
    {
     "data": {
      "text/plain": "3.0"
     },
     "metadata": {},
     "output_type": "execute_result",
     "execution_count": 3
    }
   ],
   "source": [
    "# Addition of single element NDArray(Scalars)\n",
    "x = nd.array([3.0])\n",
    "y = nd.array([2.0])\n",
    "\n",
    "print('x + y = ', x + y)\n",
    "print('x * y = ', x * y)\n",
    "print('x / y = ', x / y)\n",
    "print('x ** y = ', nd.power(x,y))\n",
    "\n",
    "# can convert to Python value using .asscalar()\n",
    "x.asscalar()"
   ],
   "metadata": {
    "collapsed": false,
    "pycharm": {
     "name": "#%%\n",
     "is_executing": false
    }
   }
  },
  {
   "cell_type": "markdown",
   "source": [
    "## Vectors\n",
    "Vectors are just an array of scalars, each scalar is an entry or component of the vector.  Vectors are \n",
    "denoted as bold lower case letters ($\\mathbf{u}$, $\\mathbf{v}$, $\\mathbf{w})$.  In MXNet they are 1D arrays.\n"
   ],
   "metadata": {
    "collapsed": false,
    "pycharm": {
     "name": "#%% md\n"
    }
   }
  },
  {
   "cell_type": "code",
   "execution_count": 4,
   "outputs": [
    {
     "name": "stdout",
     "text": [
      "x =  \n[0. 1. 2. 3.]\n<NDArray 4 @cpu(0)>\n"
     ],
     "output_type": "stream"
    }
   ],
   "source": [
    "x = nd.arange(4)\n",
    "print('x = ', x)\n",
    "\n"
   ],
   "metadata": {
    "collapsed": false,
    "pycharm": {
     "name": "#%%\n",
     "is_executing": false
    }
   }
  }
 ],
 "metadata": {
  "language_info": {
   "codemirror_mode": {
    "name": "ipython",
    "version": 2
   },
   "file_extension": ".py",
   "mimetype": "text/x-python",
   "name": "python",
   "nbconvert_exporter": "python",
   "pygments_lexer": "ipython2",
   "version": "2.7.6"
  },
  "kernelspec": {
   "name": "python3",
   "language": "python",
   "display_name": "Python 3"
  },
  "pycharm": {
   "stem_cell": {
    "cell_type": "raw",
    "source": [],
    "metadata": {
     "collapsed": false
    }
   }
  }
 },
 "nbformat": 4,
 "nbformat_minor": 0
}