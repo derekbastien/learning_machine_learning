{
 "cells": [
  {
   "cell_type": "markdown",
   "metadata": {
    "collapsed": true,
    "pycharm": {
     "name": "#%% md\n"
    }
   },
   "source": [
    "## Chapter 1 - Introuction\n",
    "- representation learning: using machine learning to representations in the data <br>\n",
    "    - can result in better performance than hand-designed representations\n",
    "    - allow AI to rapidly adapt to new tasks\n",
    "    - can discover new set of features in time proportional to complexity of problem, but much quicker than humans\n",
    "    - example is Autoencoder\n",
    "- goal of factor design: separate the factors of fariation that explain the observed data <br>\n",
    "    - for example a car image, factors of variation would include, position, its color, angle and brightness of the sun\n",
    "    - issue is that many factors of variation influence every piece of data we are able to observe\n",
    "        - at night red may appear black, a silhouette depends on angle of viewing\n",
    "        - most applications require us to disentabgle factors of variation and discard what we dont care about\n",
    "- Deep Learning solves problem in representation learning by introducing representations that are expressed in terms of other, simpler representations\n",
    "    - allows the computer to build complex concepts out of simpler ones      \n",
    "    \n"
   ]
  }
 ],
 "metadata": {
  "language_info": {
   "codemirror_mode": {
    "name": "ipython",
    "version": 2
   },
   "file_extension": ".py",
   "mimetype": "text/x-python",
   "name": "python",
   "nbconvert_exporter": "python",
   "pygments_lexer": "ipython2",
   "version": "2.7.6"
  },
  "kernelspec": {
   "name": "python3",
   "language": "python",
   "display_name": "Python 3"
  },
  "pycharm": {
   "stem_cell": {
    "cell_type": "raw",
    "source": [],
    "metadata": {
     "collapsed": false
    }
   }
  }
 },
 "nbformat": 4,
 "nbformat_minor": 0
}