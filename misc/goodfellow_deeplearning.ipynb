{
 "cells": [
  {
   "cell_type": "markdown",
   "metadata": {
    "collapsed": true,
    "pycharm": {
     "name": "#%% md\n"
    }
   },
   "source": [
    "## Chapter 1 - Introduction\n",
    "- representation learning: using machine learning to representations in the data <br>\n",
    "    - can result in better performance than hand-designed representations\n",
    "    - allow AI to rapidly adapt to new tasks\n",
    "    - can discover new set of features in time proportional to complexity of problem, but much quicker than humans\n",
    "    - example is Autoencoder\n",
    "- goal of factor design: separate the factors of fariation that explain the observed data <br>\n",
    "    - for example a car image, factors of variation would include, position, its color, angle and brightness of the sun\n",
    "    - issue is that many factors of variation influence every piece of data we are able to observe\n",
    "        - at night red may appear black, a silhouette depends on angle of viewing\n",
    "        - most applications require us to disentabgle factors of variation and discard what we dont care about\n",
    "- Deep Learning solves problem in representation learning by introducing representations that are expressed in terms of \n",
    "other, simpler representations\n",
    "    - allows the computer to build complex concepts out of simpler ones      \n",
    "- Most neural networks today are based on a model neuron called the retified linear unit\n",
    "- Distributed representation - Arose during the connectionism movement of the 1980s\n",
    "    - idea that each input to a system should be represented by many features and each feature should be involved in the \n",
    "    representation of many possible inputs.\n",
    "        -for example neurons for color(R,B,G) and neurons for objects(Car, Truck, Boat) this alleviates needing a neuron\n",
    "        specific to a red truck     \n",
    "- As of 2016 a rule of thumb is that a supervised deep learning algo at around 5000 labeled examples per category will \n",
    "generally achieve acceptable performance and at 10 million training samples will match or exceed human performance \n",
    "- At current pace deep network models double in size every 2.4 years due to technological advances, at that pace they\n",
    "will not have the same number of neurons as the brain until the 2050s unless advances in technology speed this up\n",
    "    - Today's networks some of which are considered large from a computational point of view are smaller than the \n",
    "    nervous system of a frog\n",
    "\n",
    "![number of connections per neuron](/images/bengio_number_of_neurons.png)\n",
    "- Goodfellow-et-al-2016"
   ]
  }
 ],
 "metadata": {
  "language_info": {
   "codemirror_mode": {
    "name": "ipython",
    "version": 2
   },
   "file_extension": ".py",
   "mimetype": "text/x-python",
   "name": "python",
   "nbconvert_exporter": "python",
   "pygments_lexer": "ipython2",
   "version": "2.7.6"
  },
  "kernelspec": {
   "name": "python3",
   "language": "python",
   "display_name": "Python 3"
  },
  "pycharm": {
   "stem_cell": {
    "cell_type": "raw",
    "source": [],
    "metadata": {
     "collapsed": false
    }
   }
  }
 },
 "nbformat": 4,
 "nbformat_minor": 0
}